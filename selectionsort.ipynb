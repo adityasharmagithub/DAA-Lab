{
 "cells": [
  {
   "cell_type": "markdown",
   "metadata": {},
   "source": [
    "Perform Selection Sort on an Array"
   ]
  },
  {
   "cell_type": "code",
   "execution_count": 1,
   "metadata": {},
   "outputs": [
    {
     "name": "stdout",
     "output_type": "stream",
     "text": [
      "Enter unsorted list of numbers separated by spaces: 8 9 4 3 2 0\n",
      "Sorted List:  [0, 2, 3, 4, 8, 9]\n"
     ]
    }
   ],
   "source": [
    "def selectionSort(A):\n",
    "    n = len(A)\n",
    "    for i in range(n-1):\n",
    "        smallest = i\n",
    "        for j in range(i+1, n):\n",
    "            if A[j] < A[smallest]:\n",
    "                smallest = j\n",
    "        A[i], A[smallest] = A[smallest], A[i]\n",
    "    return(A)\n",
    "\n",
    "lst = input(\"Enter unsorted list of numbers separated by spaces: \")\n",
    "lst = list(map(int, lst.split()))\n",
    "\n",
    "lstSorted = selectionSort(lst)\n",
    "print(\"Sorted List: \", lstSorted)"
   ]
  }
 ],
 "metadata": {
  "kernelspec": {
   "display_name": "Python 3",
   "language": "python",
   "name": "python3"
  },
  "language_info": {
   "codemirror_mode": {
    "name": "ipython",
    "version": 3
   },
   "file_extension": ".py",
   "mimetype": "text/x-python",
   "name": "python",
   "nbconvert_exporter": "python",
   "pygments_lexer": "ipython3",
   "version": "3.7.3"
  }
 },
 "nbformat": 4,
 "nbformat_minor": 2
}
