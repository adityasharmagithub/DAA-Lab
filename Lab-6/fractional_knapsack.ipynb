{
  "nbformat": 4,
  "nbformat_minor": 0,
  "metadata": {
    "colab": {
      "name": "fractional_knapsack.ipynb",
      "provenance": [],
      "collapsed_sections": [],
      "include_colab_link": true
    },
    "kernelspec": {
      "name": "python3",
      "display_name": "Python 3"
    },
    "accelerator": "GPU"
  },
  "cells": [
    {
      "cell_type": "markdown",
      "metadata": {
        "id": "view-in-github",
        "colab_type": "text"
      },
      "source": [
        "<a href=\"https://colab.research.google.com/github/adityasharmagithub/DAA-Lab/blob/master/Lab-6/fractional_knapsack.ipynb\" target=\"_parent\"><img src=\"https://colab.research.google.com/assets/colab-badge.svg\" alt=\"Open In Colab\"/></a>"
      ]
    },
    {
      "cell_type": "markdown",
      "metadata": {
        "id": "-8gkR2sG5Wai",
        "colab_type": "text"
      },
      "source": [
        "**Fractional knapsack problem:**"
      ]
    },
    {
      "cell_type": "code",
      "metadata": {
        "id": "a_JoXDuXph_l",
        "colab_type": "code",
        "colab": {
          "base_uri": "https://localhost:8080/",
          "height": 84
        },
        "outputId": "7cc72b31-ee6e-4824-e1a0-31324a318751"
      },
      "source": [
        "import numpy as np\n",
        "\n",
        "def fKnapsack(arr, capacity, items):\n",
        "    arr = arr[arr[:, 2].argsort()]      # SORTING ARRAY ROWS WITH RESPECT TO RATIO COLUMN \n",
        "    value = 0\n",
        "    for i in range(items-1, -1, -1):\n",
        "        if capacity == 0:\n",
        "            break\n",
        "        else:\n",
        "            if arr[i][1] <= capacity:\n",
        "                value += arr[i][0]\n",
        "                capacity -= arr[i][1]\n",
        "            else:\n",
        "                value += capacity/arr[i][1] * arr[i][0]\n",
        "                break\n",
        "    return value\n",
        "\n",
        "weights = input('Enter weights( separated by spaces ): ')\n",
        "weights = list(map(int, weights.split()))\n",
        "\n",
        "values = input('Enter values( separated by spaces ): ')\n",
        "values = list(map(int, values.split()))\n",
        "\n",
        "capacity = int(input('Enter weight capacity of knapsack: '))\n",
        "\n",
        "items = len(values)\n",
        "\n",
        "'''For computational purpose, I've created a 2-D Numpy Array as:\n",
        "        VALUE   WEIGHT  RATIO(VALUE/WEIGHT)\n",
        "         __________________________________\n",
        "ITEM1   |_____|________|___________________|\n",
        "ITEM2   |_____|________|___________________|\n",
        "ITEM3   |_____|________|___________________|\n",
        "'''\n",
        "\n",
        "arr = np.zeros((items, 3))\n",
        "for i in range(items):\n",
        "    arr[i][0] = values[i]\n",
        "    arr[i][1] = weights[i]\n",
        "    arr[i][2] = values[i]/weights[i]\n",
        "\n",
        "maxValue = fKnapsack(arr, capacity, items)\n",
        "print('Maximum value of Knapsack:', maxValue)"
      ],
      "execution_count": 6,
      "outputs": [
        {
          "output_type": "stream",
          "text": [
            "Enter weights( separated by spaces ): 10 20 30\n",
            "Enter values( separated by spaces ): 60 100 120\n",
            "Enter weight capacity of knapsack: 50\n",
            "Maximum value of Knapsack: 240.0\n"
          ],
          "name": "stdout"
        }
      ]
    }
  ]
}