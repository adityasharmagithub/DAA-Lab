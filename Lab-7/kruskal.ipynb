{
  "nbformat": 4,
  "nbformat_minor": 0,
  "metadata": {
    "colab": {
      "name": "kruskal.ipynb",
      "provenance": [],
      "collapsed_sections": []
    },
    "kernelspec": {
      "name": "python3",
      "display_name": "Python 3"
    },
    "accelerator": "GPU"
  },
  "cells": [
    {
      "cell_type": "markdown",
      "metadata": {
        "id": "npFDTa8wNpxX",
        "colab_type": "text"
      },
      "source": [
        "**Kruskal’s Minimum Spanning Tree Algorithm**\n",
        "\n",
        "Below are the steps for finding MST using Kruskal’s algorithm\n",
        "\n",
        "1. Sort all the edges in non-decreasing order of their weight.\n",
        "2. Pick the smallest edge. Check if it forms a cycle with the spanning tree formed so far. If cycle is not formed, include this edge. Else, discard it.\n",
        "3. Repeat step#2 until there are (Vertices-1) edges in the spanning tree."
      ]
    },
    {
      "cell_type": "code",
      "metadata": {
        "id": "i4hHDLo-DuvV",
        "colab_type": "code",
        "colab": {}
      },
      "source": [
        "import numpy as np\n",
        "from tabulate import tabulate"
      ],
      "execution_count": 0,
      "outputs": []
    },
    {
      "cell_type": "code",
      "metadata": {
        "id": "GNUokBOyNcxc",
        "colab_type": "code",
        "colab": {
          "base_uri": "https://localhost:8080/",
          "height": 809
        },
        "outputId": "5fce1418-9875-451c-916a-f8126fc0c1c3"
      },
      "source": [
        "def kruskal(arr, e, v):\n",
        "    arr = arr[arr[:, 0].argsort()]      # sorting array with respect to weights\n",
        "    mst = np.zeros((v-1, 3))\n",
        "    mst[0] = arr[0]                     # adding first edge as it is because tree is empty initially\n",
        "    \n",
        "    # set of vertices is made so that same vertex is not included in MST again:\n",
        "    vertices = set([arr[0, 1], arr[0, 2]])\n",
        "    edges = 1\n",
        "    for i in range(1, e):\n",
        "        vertices = vertices.union((arr[i, 1], arr[i, 2]))\n",
        "        if edges+1 < len(vertices):\n",
        "            mst[edges] = arr[i]\n",
        "            edges += 1\n",
        "    return mst\n",
        "\n",
        "edges = int(input('Enter number of edges in the graph: '))\n",
        "vertices = int(input('Enter number of vertices in the graph: '))\n",
        "arr = np.zeros((edges, 3))\n",
        "\n",
        "print('\\nEnter details of edges in the graph one by one:\\n')\n",
        "for i in range(edges):\n",
        "    w = int(input('Enter weight of the edge: '))\n",
        "    v1 = int(input('Enter first vertex: '))\n",
        "    v2 = int(input('Enter second vertex: '))\n",
        "    arr[i] = [w, v1, v2]\n",
        "    print()\n",
        "minSpT = kruskal(arr, edges, vertices)\n",
        "\n",
        "# printing the MST in tabular format\n",
        "print('Minimum Spanning Tree:')\n",
        "header = ('WEIGHT',  'VERTEX_1',  'VERTEX_2')\n",
        "table = tabulate(minSpT, header, tablefmt = \"fancy_grid\")\n",
        "print(table)"
      ],
      "execution_count": 3,
      "outputs": [
        {
          "output_type": "stream",
          "text": [
            "Enter number of edges in the graph: 7\n",
            "Enter number of vertices in the graph: 5\n",
            "\n",
            "Enter details of edges in the graph one by one:\n",
            "\n",
            "Enter weight of the edge: 1\n",
            "Enter first vertex: 1\n",
            "Enter second vertex: 2\n",
            "\n",
            "Enter weight of the edge: 7\n",
            "Enter first vertex: 1\n",
            "Enter second vertex: 3\n",
            "\n",
            "Enter weight of the edge: 5\n",
            "Enter first vertex: 2\n",
            "Enter second vertex: 3\n",
            "\n",
            "Enter weight of the edge: 4\n",
            "Enter first vertex: 2\n",
            "Enter second vertex: 4\n",
            "\n",
            "Enter weight of the edge: 3\n",
            "Enter first vertex: 2\n",
            "Enter second vertex: 5\n",
            "\n",
            "Enter weight of the edge: 6\n",
            "Enter first vertex: 3\n",
            "Enter second vertex: 5\n",
            "\n",
            "Enter weight of the edge: 2\n",
            "Enter first vertex: 4\n",
            "Enter second vertex: 5\n",
            "\n",
            "Minimum Spanning Tree:\n",
            "╒══════════╤════════════╤════════════╕\n",
            "│   WEIGHT │   VERTEX_1 │   VERTEX_2 │\n",
            "╞══════════╪════════════╪════════════╡\n",
            "│        1 │          1 │          2 │\n",
            "├──────────┼────────────┼────────────┤\n",
            "│        2 │          4 │          5 │\n",
            "├──────────┼────────────┼────────────┤\n",
            "│        3 │          2 │          5 │\n",
            "├──────────┼────────────┼────────────┤\n",
            "│        5 │          2 │          3 │\n",
            "╘══════════╧════════════╧════════════╛\n"
          ],
          "name": "stdout"
        }
      ]
    },
    {
      "cell_type": "code",
      "metadata": {
        "id": "608k30tIDlBd",
        "colab_type": "code",
        "colab": {}
      },
      "source": [
        ""
      ],
      "execution_count": 0,
      "outputs": []
    }
  ]
}