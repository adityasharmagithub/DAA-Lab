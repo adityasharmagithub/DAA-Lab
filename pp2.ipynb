{
 "cells": [
  {
   "cell_type": "markdown",
   "metadata": {},
   "source": [
    "Suppose you are given an array A(1 .. n) of sorted integers that has been circularly shifted 'k' positions to the right for example:\n",
    "A = 35, 42, 5, 15, 27, 29\n",
    "is a sorted array that has been circularly shifted k = 2 positions\n",
    "While,\n",
    "A = 27, 29, 35, 42, 5, 15 has been shifted k = 4 positions. We can obviously find the largest element in A of order n times. Describe algorithm of log(n) order."
   ]
  },
  {
   "cell_type": "code",
   "execution_count": 9,
   "metadata": {},
   "outputs": [
    {
     "name": "stdout",
     "output_type": "stream",
     "text": [
      "Enter list of numbers separated by spaces: 5 15 27 29 35 42\n",
      "Largest number =  42\n"
     ]
    }
   ],
   "source": [
    "def findLargest(A):\n",
    "    n = len(A)\n",
    "    \n",
    "    start = 0\n",
    "    last = n-1\n",
    "    mid = last//2\n",
    "    \n",
    "    if A[mid] < A[start] and A[mid] < A[last]:\n",
    "        new_A = A[start : mid+1]\n",
    "        return(findLargest(new_A))\n",
    "    elif A[last] < A[mid] and A[mid] > A[start]:\n",
    "        new_A = A[mid : last+1]\n",
    "        return(findLargest(new_A))\n",
    "    else:\n",
    "        if A[start] > A[last]:\n",
    "            return A[start]\n",
    "        else:\n",
    "            return A[last]\n",
    "\n",
    "lst = input(\"Enter list of numbers separated by spaces: \")\n",
    "lst = list(map(int, lst.split()))\n",
    "\n",
    "num = findLargest(lst)\n",
    "print(\"Largest number = \", num)"
   ]
  },
  {
   "cell_type": "code",
   "execution_count": null,
   "metadata": {},
   "outputs": [],
   "source": []
  }
 ],
 "metadata": {
  "kernelspec": {
   "display_name": "Python 3",
   "language": "python",
   "name": "python3"
  },
  "language_info": {
   "codemirror_mode": {
    "name": "ipython",
    "version": 3
   },
   "file_extension": ".py",
   "mimetype": "text/x-python",
   "name": "python",
   "nbconvert_exporter": "python",
   "pygments_lexer": "ipython3",
   "version": "3.6.7"
  }
 },
 "nbformat": 4,
 "nbformat_minor": 2
}
