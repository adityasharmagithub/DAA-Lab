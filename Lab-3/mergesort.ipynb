{
 "cells": [
  {
   "cell_type": "markdown",
   "metadata": {},
   "source": [
    "Sort a list of elements using MERGE SORT algorithm."
   ]
  },
  {
   "cell_type": "code",
   "execution_count": 2,
   "metadata": {},
   "outputs": [
    {
     "name": "stdout",
     "output_type": "stream",
     "text": [
      "Enter unsorted list elements separated by spaces: 3 2 4 1 0 5\n",
      "Sorted List:  [0, 1, 2, 3, 4, 5]\n"
     ]
    }
   ],
   "source": [
    "def mergesort(lst):\n",
    "    if len(lst) == 1:\n",
    "        return lst\n",
    "    mid = (len(lst)-1)//2\n",
    "    left = mergesort(lst[:mid + 1])\n",
    "    right = mergesort(lst[mid + 1:])\n",
    "    lst = merge(left, right)\n",
    "    return lst\n",
    "\n",
    "def merge(left, right):\n",
    "    newList = []\n",
    "    while len(left) > 0 and len(right) > 0:\n",
    "        if left[0] > right[0]:\n",
    "            newList += [right[0]]\n",
    "            del right[0]\n",
    "        else:\n",
    "            newList += [left[0]]\n",
    "            del left[0]\n",
    "    while len(left) > 0:\n",
    "        newList += [left[0]]\n",
    "        del left[0]\n",
    "    \n",
    "    while len(right) > 0:\n",
    "        newList += [right[0]]\n",
    "        del right[0]\n",
    "        \n",
    "    return newList\n",
    "\n",
    "lst = input(\"Enter unsorted list elements separated by spaces: \")\n",
    "lst = list(map(int, lst.split()))\n",
    "sortedList = mergesort(lst)\n",
    "print(\"Sorted List: \", sortedList)"
   ]
  }
 ],
 "metadata": {
  "kernelspec": {
   "display_name": "Python 3",
   "language": "python",
   "name": "python3"
  },
  "language_info": {
   "codemirror_mode": {
    "name": "ipython",
    "version": 3
   },
   "file_extension": ".py",
   "mimetype": "text/x-python",
   "name": "python",
   "nbconvert_exporter": "python",
   "pygments_lexer": "ipython3",
   "version": "3.6.7"
  }
 },
 "nbformat": 4,
 "nbformat_minor": 2
}
