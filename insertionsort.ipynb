{
 "cells": [
  {
   "cell_type": "markdown",
   "metadata": {},
   "source": [
    "Perform Insertion Sort on an Array"
   ]
  },
  {
   "cell_type": "code",
   "execution_count": 2,
   "metadata": {},
   "outputs": [
    {
     "name": "stdout",
     "output_type": "stream",
     "text": [
      "Enter list of numbers separated by spaces: 9 0 7 7 4 3 56\n",
      "Sorted List:  [0, 3, 4, 7, 7, 9, 56]\n"
     ]
    }
   ],
   "source": [
    "def insertionSort(A):\n",
    "    n = len(A)\n",
    "    for i in range(1, n):\n",
    "        key = A[i]\n",
    "        j = i-1\n",
    "        while j >= 0 and A[j] > key :\n",
    "            A[j+1] = A[j]\n",
    "            j -= 1\n",
    "        A[j+1] = key\n",
    "    return(A)\n",
    "\n",
    "lst = input(\"Enter list of numbers separated by spaces: \")\n",
    "lst = list(map(int, lst.split()))\n",
    "\n",
    "lstSorted = insertionSort(lst)\n",
    "print(\"Sorted List: \", lstSorted)"
   ]
  }
 ],
 "metadata": {
  "kernelspec": {
   "display_name": "Python 3",
   "language": "python",
   "name": "python3"
  },
  "language_info": {
   "codemirror_mode": {
    "name": "ipython",
    "version": 3
   },
   "file_extension": ".py",
   "mimetype": "text/x-python",
   "name": "python",
   "nbconvert_exporter": "python",
   "pygments_lexer": "ipython3",
   "version": "3.7.3"
  }
 },
 "nbformat": 4,
 "nbformat_minor": 2
}
