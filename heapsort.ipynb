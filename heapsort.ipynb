{
 "cells": [
  {
   "cell_type": "markdown",
   "metadata": {},
   "source": [
    "## Heaps and tasks associated with them"
   ]
  },
  {
   "cell_type": "markdown",
   "metadata": {},
   "source": [
    "<b>Input an array/list and perform:\n",
    "    <ol>\n",
    "    <li>Sorting</li>\n",
    "    <li>Insertion</li>\n",
    "    <li>Deletion</li>\n",
    "    </ol>\n",
    "   by visualising array/list as heap.</b>"
   ]
  },
  {
   "cell_type": "code",
   "execution_count": 4,
   "metadata": {},
   "outputs": [
    {
     "name": "stdout",
     "output_type": "stream",
     "text": [
      "Enter unsorted list elements separated by spaces: 10 4 3 2 1 0 7\n",
      "\n",
      "Sorting:\n",
      "Sorted List: [0, 1, 2, 3, 4, 7, 10]\n",
      "\n",
      "Insertion:\n",
      "Enter element: 12\n",
      "[12, 4, 10, 3, 0, 7, 2, 1]\n",
      "\n",
      "Deletion:\n",
      "Enter index: 4\n",
      "[12, 4, 10, 3, 1, 7, 2]\n"
     ]
    }
   ],
   "source": [
    "'''Heapify is the function that has list(lst), index(i), size_of_list(n) as parameters.\n",
    "(i) tells that from which element, the heap is to be converted to a (max)heap.'''\n",
    "def heapify(lst, i, n):\n",
    "    maxm = i        #Assuming root to be maximum initially\n",
    "    left = 2*i + 1\n",
    "    right = 2*i + 2\n",
    "    \n",
    "    if left < n and lst[i] < lst[left]:\n",
    "        maxm = left\n",
    "    if right < n and lst[maxm] < lst[right]:\n",
    "        maxm = right\n",
    "    \n",
    "    if maxm != i:\n",
    "        lst[i], lst[maxm] = lst[maxm], lst[i]\n",
    "        heapify(lst, maxm, n)\n",
    "\n",
    "def heapSort(lst):\n",
    "    size = len(lst)\n",
    "    \n",
    "    '''The for loop below converts the trivial array/list to a max heap by heapifying the non-leaf\n",
    "    nodes in a bottom->up fashion( non-leaf nodes start from the index passed as the 1st argument \n",
    "    to the range() function and continue till 0th index of List/Array).'''\n",
    "    for i in range(round((size-1)/2), -1, -1):\n",
    "        heapify(lst, i, size)\n",
    "    \n",
    "    '''Once the max heap is created, only swapping root <-> last and heapifying the rest\n",
    "    will do the sorting task.'''\n",
    "    while size > 0:\n",
    "        lst[0], lst[size-1] = lst[size-1], lst[0]\n",
    "        size -= 1\n",
    "        heapify(lst, 0, size)\n",
    "    \n",
    "    return lst\n",
    "\n",
    "def insertion(lst, x):\n",
    "    lst.append(x)\n",
    "    size = len(lst)\n",
    "    for i in range(round((size-1)/2), -1, -1):\n",
    "        heapify(lst, i, size)\n",
    "    return lst\n",
    "\n",
    "def deletion(lst, i):\n",
    "    size = len(lst)\n",
    "    lst[size-1], lst[i] = lst[i], lst[size-1]\n",
    "    del lst[size-1]\n",
    "    heapify(lst, i, len(lst))\n",
    "    return lst\n",
    "    \n",
    "lst = input(\"Enter unsorted list elements separated by spaces: \")\n",
    "lst = list(map(int, lst.split()))\n",
    "\n",
    "print('\\nSorting:')\n",
    "print('Sorted List:', heapSort(lst))\n",
    "\n",
    "print('\\nInsertion:')\n",
    "x = int(input('Enter element: '))\n",
    "print(insertion(lst, x))\n",
    "\n",
    "print('\\nDeletion:')\n",
    "i = int(input('Enter index: '))\n",
    "print(deletion(lst, i))"
   ]
  }
 ],
 "metadata": {
  "kernelspec": {
   "display_name": "Python 3",
   "language": "python",
   "name": "python3"
  },
  "language_info": {
   "codemirror_mode": {
    "name": "ipython",
    "version": 3
   },
   "file_extension": ".py",
   "mimetype": "text/x-python",
   "name": "python",
   "nbconvert_exporter": "python",
   "pygments_lexer": "ipython3",
   "version": "3.7.3"
  }
 },
 "nbformat": 4,
 "nbformat_minor": 2
}
