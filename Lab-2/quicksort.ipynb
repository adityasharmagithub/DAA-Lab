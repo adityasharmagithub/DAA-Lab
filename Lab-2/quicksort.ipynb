{
 "cells": [
  {
   "cell_type": "markdown",
   "metadata": {},
   "source": [
    "Implementing Quick Sort Algorithm in a list.\n",
    "List's lowest and highest index is also passed in the function along with list."
   ]
  },
  {
   "cell_type": "code",
   "execution_count": 1,
   "metadata": {},
   "outputs": [
    {
     "name": "stdout",
     "output_type": "stream",
     "text": [
      "Enter unsorted list elements separated by spaces: 2 1 4 5 3\n",
      "Sorted List:  [1, 2, 3, 4, 5]\n"
     ]
    }
   ],
   "source": [
    "def quickSort(lst, low, high):\n",
    "    while(low < high):\n",
    "        # Following line returns the index of the pivot after its rearrangement\n",
    "        rIndex = rearrange(lst, low, high)\n",
    "        \n",
    "        # Using recurrence for sorting the list parts before and after rIndex\n",
    "        quickSort(lst, low, rIndex-1)\n",
    "        quickSort(lst, rIndex+1, high)\n",
    "        return lst\n",
    "        \n",
    "def rearrange(lst, low, high):\n",
    "    current = low\n",
    "    \n",
    "    for i in range(low, high):\n",
    "        # Taking 'high' as pivot value index\n",
    "        if lst[i] < lst[high]:\n",
    "            lst[current], lst[i] = lst[i], lst[current]\n",
    "            current = current + 1\n",
    "    lst[high], lst[current] = lst[current], lst[high]\n",
    "    return current\n",
    "\n",
    "lst = input(\"Enter unsorted list elements separated by spaces: \")\n",
    "lst = list(map(int, lst.split(' ')))\n",
    "\n",
    "high = len(lst)-1\n",
    "lst = quickSort(lst, 0, high)\n",
    "print('Sorted List: ', lst)"
   ]
  }
 ],
 "metadata": {
  "kernelspec": {
   "display_name": "Python 3",
   "language": "python",
   "name": "python3"
  },
  "language_info": {
   "codemirror_mode": {
    "name": "ipython",
    "version": 3
   },
   "file_extension": ".py",
   "mimetype": "text/x-python",
   "name": "python",
   "nbconvert_exporter": "python",
   "pygments_lexer": "ipython3",
   "version": "3.7.3"
  }
 },
 "nbformat": 4,
 "nbformat_minor": 2
}
