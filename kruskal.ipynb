{
 "cells": [
  {
   "cell_type": "code",
   "execution_count": 1,
   "metadata": {},
   "outputs": [],
   "source": [
    "import numpy as np\n",
    "from tabulate import tabulate"
   ]
  },
  {
   "cell_type": "code",
   "execution_count": 2,
   "metadata": {},
   "outputs": [
    {
     "name": "stdout",
     "output_type": "stream",
     "text": [
      "Enter number of edges in the graph: 7\n",
      "Enter number of vertices in the graph: 5\n",
      "\n",
      "Enter details of edges in the graph one by one:\n",
      "\n",
      "Enter weight of the edge: 1\n",
      "Enter first vertex: 1\n",
      "Enter second vertex: 2\n",
      "\n",
      "Enter weight of the edge: 7\n",
      "Enter first vertex: 1\n",
      "Enter second vertex: 3\n",
      "\n",
      "Enter weight of the edge: 5\n",
      "Enter first vertex: 2\n",
      "Enter second vertex: 3\n",
      "\n",
      "Enter weight of the edge: 4\n",
      "Enter first vertex: 2\n",
      "Enter second vertex: 4\n",
      "\n",
      "Enter weight of the edge: 3\n",
      "Enter first vertex: 2\n",
      "Enter second vertex: 5\n",
      "\n",
      "Enter weight of the edge: 6\n",
      "Enter first vertex: 3\n",
      "Enter second vertex: 5\n",
      "\n",
      "Enter weight of the edge: 2\n",
      "Enter first vertex: 4\n",
      "Enter second vertex: 5\n",
      "\n",
      "Minimum Spanning Tree:\n",
      "╒══════════╤════════════╤════════════╕\n",
      "│   WEIGHT │   VERTEX_1 │   VERTEX_2 │\n",
      "╞══════════╪════════════╪════════════╡\n",
      "│        1 │          1 │          2 │\n",
      "├──────────┼────────────┼────────────┤\n",
      "│        2 │          4 │          5 │\n",
      "├──────────┼────────────┼────────────┤\n",
      "│        3 │          2 │          5 │\n",
      "├──────────┼────────────┼────────────┤\n",
      "│        5 │          2 │          3 │\n",
      "╘══════════╧════════════╧════════════╛\n"
     ]
    }
   ],
   "source": [
    "def kruskal(arr, e, v):\n",
    "    arr = arr[arr[:, 0].argsort()]      # sorting array with respect to weights\n",
    "    mst = np.zeros((v-1, 3))\n",
    "    mst[0] = arr[0]                     # adding first edge as it is because tree is empty initially\n",
    "    \n",
    "    # set of vertices is made so that same vertex is not included in MST again:\n",
    "    vertices = set([arr[0, 1], arr[0, 2]])\n",
    "    edges = 1\n",
    "    for i in range(1, e):\n",
    "        vertices = vertices.union((arr[i, 1], arr[i, 2]))\n",
    "        if edges+1 < len(vertices):\n",
    "            mst[edges] = arr[i]\n",
    "            edges += 1\n",
    "    return mst\n",
    "\n",
    "edges = int(input('Enter number of edges in the graph: '))\n",
    "vertices = int(input('Enter number of vertices in the graph: '))\n",
    "arr = np.zeros((edges, 3))\n",
    "\n",
    "print('\\nEnter details of edges in the graph one by one:\\n')\n",
    "for i in range(edges):\n",
    "    w = int(input('Enter weight of the edge: '))\n",
    "    v1 = int(input('Enter first vertex: '))\n",
    "    v2 = int(input('Enter second vertex: '))\n",
    "    arr[i] = [w, v1, v2]\n",
    "    print()\n",
    "minSpT = kruskal(arr, edges, vertices)\n",
    "\n",
    "# printing the MST in tabular format\n",
    "print('Minimum Spanning Tree:')\n",
    "header = ('WEIGHT',  'VERTEX_1',  'VERTEX_2')\n",
    "table = tabulate(minSpT, header, tablefmt = \"fancy_grid\")\n",
    "print(table)"
   ]
  },
  {
   "cell_type": "code",
   "execution_count": null,
   "metadata": {},
   "outputs": [],
   "source": []
  }
 ],
 "metadata": {
  "kernelspec": {
   "display_name": "Python 3",
   "language": "python",
   "name": "python3"
  },
  "language_info": {
   "codemirror_mode": {
    "name": "ipython",
    "version": 3
   },
   "file_extension": ".py",
   "mimetype": "text/x-python",
   "name": "python",
   "nbconvert_exporter": "python",
   "pygments_lexer": "ipython3",
   "version": "3.7.3"
  }
 },
 "nbformat": 4,
 "nbformat_minor": 2
}
